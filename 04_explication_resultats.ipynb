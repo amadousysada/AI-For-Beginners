{
  "nbformat": 4,
  "nbformat_minor": 0,
  "metadata": {
    "colab": {
      "provenance": [],
      "authorship_tag": "ABX9TyMaqsm/NnC9jZUxHmUPqxU+",
      "include_colab_link": true
    },
    "kernelspec": {
      "name": "python3",
      "display_name": "Python 3"
    },
    "language_info": {
      "name": "python"
    }
  },
  "cells": [
    {
      "cell_type": "markdown",
      "metadata": {
        "id": "view-in-github",
        "colab_type": "text"
      },
      "source": [
        "<a href=\"https://colab.research.google.com/github/amadousysada/AI-For-Beginners/blob/main/04_explication_resultats.ipynb\" target=\"_parent\"><img src=\"https://colab.research.google.com/assets/colab-badge.svg\" alt=\"Open In Colab\"/></a>"
      ]
    },
    {
      "cell_type": "code",
      "execution_count": null,
      "metadata": {
        "id": "c3NhJSuyXN1-"
      },
      "outputs": [],
      "source": [
        "import pandas as pd\n",
        "import numpy as np\n",
        "import seaborn as sns\n",
        "import warnings\n",
        "\n",
        "# Matplotlib\n",
        "import matplotlib.pyplot as plt\n",
        "from matplotlib.gridspec import GridSpec\n",
        "\n",
        "# Scikit Learn\n",
        "from sklearn.model_selection import train_test_split, StratifiedKFold\n",
        "from sklearn.preprocessing import StandardScaler\n",
        "from sklearn.metrics import roc_auc_score, accuracy_score, f1_score, roc_curve, auc, make_scorer, confusion_matrix, fbeta_score, ConfusionMatrixDisplay\n",
        "from sklearn.impute import SimpleImputer\n",
        "from sklearn.calibration import CalibrationDisplay\n",
        "\n",
        "# Modèles de Boosting\n",
        "from lightgbm import LGBMClassifier\n",
        "\n",
        "# Imblearn, pour le réequilibrage\n",
        "from imblearn.pipeline import Pipeline as ImbPipeline\n",
        "from imblearn.over_sampling import SMOTE"
      ]
    },
    {
      "cell_type": "code",
      "source": [
        "folder_path = \"/content/drive/MyDrive/data/\" # A ajuster selon le chemin où se trouve vos cvs."
      ],
      "metadata": {
        "id": "jIjgtmEfaThT"
      },
      "execution_count": null,
      "outputs": []
    },
    {
      "cell_type": "code",
      "source": [
        "X_train = pd.read_csv(f\"{folder_path}final_cleaned_app_train.csv\")\n",
        "X_test = pd.read_csv(f\"{folder_path}final_cleaned_app_test.csv\")\n",
        "\n",
        "Y = X_train['TARGET']\n",
        "\n",
        "X_train.drop(columns=['SK_ID_CURR', 'TARGET'], inplace=True)\n",
        "X_test.drop(columns=['SK_ID_CURR'], inplace=True)"
      ],
      "metadata": {
        "id": "EZtxqTFEbKkw"
      },
      "execution_count": null,
      "outputs": []
    },
    {
      "cell_type": "code",
      "source": [
        "params = {\n",
        "    'num_leaves': 34,\n",
        "    'max_depth': 5,\n",
        "    'learning_rate': 0.12151829295886919\n",
        "    'n_estimators': 118,\n",
        "    'min_data_in_leaf': 89,\n",
        "    'lambda_l1': 0.04008372779214459,\n",
        "    'lambda_l2': 0.9407387582460319,\n",
        "    'feature_fraction': 0.5071854627075131,\n",
        "    'bagging_fraction': 0.9146284425997193\n",
        "}\n",
        "\n",
        "model = LGBMClassifier(**params, random_state=42, verbose=-1, n_jobs=-1),\n",
        "\n",
        "pipeline = ImbPipeline(steps=[\n",
        "      (\"scaler\", StandardScaler()),\n",
        "      (\"imputer\", SimpleImputer(strategy=\"median\")),\n",
        "      (\"smote\", SMOTE(random_state=42, k_neighbors=2, sampling_strategy=0.1)),\n",
        "      (\"model\", model)\n",
        "])\n",
        "\n",
        "lgb = pipeline.fit(X_train, Y)"
      ],
      "metadata": {
        "id": "gRlH28cEaLf_"
      },
      "execution_count": null,
      "outputs": []
    },
    {
      "cell_type": "code",
      "source": [
        "# Predict"
      ],
      "metadata": {
        "id": "KDziABqSb9xL"
      },
      "execution_count": null,
      "outputs": []
    },
    {
      "cell_type": "code",
      "source": [
        "X_test = SimpleImputer(strategy=\"median\").fit_transform(X_test)\n",
        "X_test_scaled = StandardScaler().fit_transform(X_test)\n",
        "\n",
        "y_pred = lgm.predict(X_test_scaled)\n",
        "y_pred_proba = lgm.predict_proba(X_test_scaled)[:, 1]"
      ],
      "metadata": {
        "id": "SQZgi8xAfQhu"
      },
      "execution_count": null,
      "outputs": []
    },
    {
      "cell_type": "code",
      "source": [
        "# importance des variables\n",
        "coef_imp_feature = pd.DataFrame({'variable': X_train.columns,\n",
        "                                 'coef': lgm.feature_importances_})\n",
        "print(coef_imp_feature.sort_values(by='coef', ascending=False))"
      ],
      "metadata": {
        "id": "4tVpcZM3gL2p"
      },
      "execution_count": null,
      "outputs": []
    },
    {
      "cell_type": "code",
      "source": [
        "sns.set_style(\"ticks\")\n",
        "\n",
        "feature_imp = pd.DataFrame(sorted(zip(model_LGBM.feature_importances_, X_train.columns)), columns=['Value','Feature'])\n",
        "\n",
        "plt.figure(figsize=(10, 10))\n",
        "sns.barplot(x=\"Value\", y=\"Feature\",\n",
        "            data=feature_imp.sort_values(by=\"Value\", ascending=False),\n",
        "            palette=\"BrBG_r\")\n",
        "plt.title('LightGBM Features (avg over folds)', fontsize=20, fontstyle='italic')\n",
        "plt.tight_layout()\n",
        "plt.show()"
      ],
      "metadata": {
        "id": "wZUezcSlgXui"
      },
      "execution_count": null,
      "outputs": []
    },
    {
      "cell_type": "code",
      "source": [
        "lgb.plot_tree(model_LGBM, figsize=(30,40))"
      ],
      "metadata": {
        "id": "S8LD0-aXgbfa"
      },
      "execution_count": null,
      "outputs": []
    },
    {
      "cell_type": "code",
      "source": [
        "print(\"Prédictions sur l'ensemble de test\")\n",
        "print(pd.DataFrame({\n",
        "    \"COUNT\": y_pred_lgbm_df.value_counts(),\n",
        "    \"RATIO\": y_pred_lgbm_df.value_counts() / len(y_pred_lgbm_df) * 100}))"
      ],
      "metadata": {
        "id": "t-3BS-DyhARj"
      },
      "execution_count": null,
      "outputs": []
    },
    {
      "cell_type": "code",
      "source": [
        "y_pred_lgbm_proba = model_LGBM.predict_proba(X_test)\n",
        "\n",
        "y_pred_lgbm_proba"
      ],
      "metadata": {
        "id": "VJzAcjhzhCvW"
      },
      "execution_count": null,
      "outputs": []
    },
    {
      "cell_type": "code",
      "source": [
        "y_pred_lgbm_proba_df = pd.DataFrame(y_pred_lgbm_proba, columns=['proba_classe_0', 'proba_classe_1'])\n",
        "y_pred_lgbm_proba_df[y_pred_lgbm_proba_df['proba_classe_1'] > 0.9].sort_values(by='proba_classe_1', ascending=False)\n"
      ],
      "metadata": {
        "id": "lPddJk1ohGlq"
      },
      "execution_count": null,
      "outputs": []
    }
  ]
}